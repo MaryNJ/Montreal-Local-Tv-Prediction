{
  "nbformat": 4,
  "nbformat_minor": 0,
  "metadata": {
    "colab": {
      "name": "My YapAiTek assignment.ipynb",
      "provenance": [],
      "collapsed_sections": [
        "XaMhsrC3ZBgP",
        "43URblTHY3cw",
        "Q8NmNF0hYuQz",
        "2eA9rlzZYf9M",
        "1TXTatRkYZ8Q",
        "JArPd6EK3F3i",
        "elHymTYKrFDo",
        "1TnuaoXZ3d1F",
        "u6eMaHXH3qem",
        "A4JwUT0q5lB0",
        "CH3TtkbSYNuj"
      ],
      "machine_shape": "hm"
    },
    "kernelspec": {
      "name": "python3",
      "display_name": "Python 3"
    },
    "accelerator": "TPU"
  },
  "cells": [
    {
      "cell_type": "markdown",
      "metadata": {
        "colab_type": "text",
        "id": "4MEmdQoyPBbv"
      },
      "source": [
        ""
      ]
    },
    {
      "cell_type": "code",
      "metadata": {
        "id": "mUPvDJuOg60z",
        "colab_type": "code",
        "outputId": "579440e0-b607-4d08-c90b-d0eeb9c502f2",
        "colab": {
          "base_uri": "https://localhost:8080/",
          "height": 54
        }
      },
      "source": [
        "from google.colab import drive\n",
        "drive.mount('/content/drive')"
      ],
      "execution_count": 134,
      "outputs": [
        {
          "output_type": "stream",
          "text": [
            "Drive already mounted at /content/drive; to attempt to forcibly remount, call drive.mount(\"/content/drive\", force_remount=True).\n"
          ],
          "name": "stdout"
        }
      ]
    },
    {
      "cell_type": "markdown",
      "metadata": {
        "id": "XaMhsrC3ZBgP",
        "colab_type": "text"
      },
      "source": [
        "##Explain Dataset"
      ]
    },
    {
      "cell_type": "code",
      "metadata": {
        "id": "DACUc54aJVXt",
        "colab_type": "code",
        "outputId": "266b1c52-bac1-4698-a775-1fc5ed881ffa",
        "colab": {
          "base_uri": "https://localhost:8080/",
          "height": 34
        }
      },
      "source": [
        "#I share the link with my google drive and use:)\n",
        "import pandas as pd\n",
        "TrainSet=pd.read_csv('/content/drive/My Drive/YAP/data.csv')\n",
        "TestSet=pd.read_csv('/content/drive/My Drive/YAP/test.csv')\n",
        "TestSet.shape"
      ],
      "execution_count": 135,
      "outputs": [
        {
          "output_type": "execute_result",
          "data": {
            "text/plain": [
              "(154165, 19)"
            ]
          },
          "metadata": {
            "tags": []
          },
          "execution_count": 135
        }
      ]
    },
    {
      "cell_type": "code",
      "metadata": {
        "id": "EYrKROmJONMC",
        "colab_type": "code",
        "outputId": "599e2930-5238-4ede-d7e6-97c7b491f9b4",
        "colab": {
          "base_uri": "https://localhost:8080/",
          "height": 530
        }
      },
      "source": [
        "TrainSet.head()"
      ],
      "execution_count": 136,
      "outputs": [
        {
          "output_type": "execute_result",
          "data": {
            "text/html": [
              "<div>\n",
              "<style scoped>\n",
              "    .dataframe tbody tr th:only-of-type {\n",
              "        vertical-align: middle;\n",
              "    }\n",
              "\n",
              "    .dataframe tbody tr th {\n",
              "        vertical-align: top;\n",
              "    }\n",
              "\n",
              "    .dataframe thead th {\n",
              "        text-align: right;\n",
              "    }\n",
              "</style>\n",
              "<table border=\"1\" class=\"dataframe\">\n",
              "  <thead>\n",
              "    <tr style=\"text-align: right;\">\n",
              "      <th></th>\n",
              "      <th>Unnamed: 0</th>\n",
              "      <th>Episode</th>\n",
              "      <th>Station</th>\n",
              "      <th>Channel Type</th>\n",
              "      <th>Season</th>\n",
              "      <th>Year</th>\n",
              "      <th>Date</th>\n",
              "      <th>Day of week</th>\n",
              "      <th>Start_time</th>\n",
              "      <th>End_time</th>\n",
              "      <th>Length</th>\n",
              "      <th>Name of show</th>\n",
              "      <th>Name of episode</th>\n",
              "      <th>Genre</th>\n",
              "      <th>First time or rerun</th>\n",
              "      <th># of episode in the season</th>\n",
              "      <th>Movie?</th>\n",
              "      <th>Game of the Canadiens during episode?</th>\n",
              "      <th>Market Share_total</th>\n",
              "      <th>Temperature in Montreal during episode</th>\n",
              "    </tr>\n",
              "  </thead>\n",
              "  <tbody>\n",
              "    <tr>\n",
              "      <th>0</th>\n",
              "      <td>1</td>\n",
              "      <td>Vidéoclips V</td>\n",
              "      <td>V Total</td>\n",
              "      <td>General Channel</td>\n",
              "      <td>Fall</td>\n",
              "      <td>2016</td>\n",
              "      <td>2016-08-29</td>\n",
              "      <td>Monday</td>\n",
              "      <td>2016-08-29 06:00:00</td>\n",
              "      <td>2016-08-29 08:00:00</td>\n",
              "      <td>8</td>\n",
              "      <td>Vidéoclips V</td>\n",
              "      <td>NaN</td>\n",
              "      <td>Music Video Clips</td>\n",
              "      <td>No</td>\n",
              "      <td>Yes</td>\n",
              "      <td>No</td>\n",
              "      <td>No</td>\n",
              "      <td>0.9</td>\n",
              "      <td>20.400</td>\n",
              "    </tr>\n",
              "    <tr>\n",
              "      <th>1</th>\n",
              "      <td>2</td>\n",
              "      <td>Apollo dans l'frigo</td>\n",
              "      <td>V Total</td>\n",
              "      <td>General Channel</td>\n",
              "      <td>Fall</td>\n",
              "      <td>2016</td>\n",
              "      <td>2016-08-29</td>\n",
              "      <td>Monday</td>\n",
              "      <td>2016-08-29 08:00:00</td>\n",
              "      <td>2016-08-29 08:30:00</td>\n",
              "      <td>2</td>\n",
              "      <td>Apollo dans l'frigo</td>\n",
              "      <td>NaN</td>\n",
              "      <td>Informal Education and Recreation and Leisure</td>\n",
              "      <td>No</td>\n",
              "      <td>Yes</td>\n",
              "      <td>No</td>\n",
              "      <td>No</td>\n",
              "      <td>0.5</td>\n",
              "      <td>19.125</td>\n",
              "    </tr>\n",
              "    <tr>\n",
              "      <th>2</th>\n",
              "      <td>3</td>\n",
              "      <td>Infopublicité</td>\n",
              "      <td>V Total</td>\n",
              "      <td>General Channel</td>\n",
              "      <td>Fall</td>\n",
              "      <td>2016</td>\n",
              "      <td>2016-08-29</td>\n",
              "      <td>Monday</td>\n",
              "      <td>2016-08-29 08:30:00</td>\n",
              "      <td>2016-08-29 09:00:00</td>\n",
              "      <td>2</td>\n",
              "      <td>Infopublicité</td>\n",
              "      <td>NaN</td>\n",
              "      <td>Infomercials, Promotional and Corporate Videos</td>\n",
              "      <td>No</td>\n",
              "      <td>Yes</td>\n",
              "      <td>No</td>\n",
              "      <td>No</td>\n",
              "      <td>0.3</td>\n",
              "      <td>19.125</td>\n",
              "    </tr>\n",
              "    <tr>\n",
              "      <th>3</th>\n",
              "      <td>4</td>\n",
              "      <td>Infos, Les</td>\n",
              "      <td>V Total</td>\n",
              "      <td>General Channel</td>\n",
              "      <td>Fall</td>\n",
              "      <td>2016</td>\n",
              "      <td>2016-08-29</td>\n",
              "      <td>Monday</td>\n",
              "      <td>2016-08-29 09:00:00</td>\n",
              "      <td>2016-08-29 10:00:00</td>\n",
              "      <td>4</td>\n",
              "      <td>Infos, Les</td>\n",
              "      <td>NaN</td>\n",
              "      <td>News</td>\n",
              "      <td>No</td>\n",
              "      <td>Yes</td>\n",
              "      <td>No</td>\n",
              "      <td>No</td>\n",
              "      <td>1.7</td>\n",
              "      <td>18.125</td>\n",
              "    </tr>\n",
              "    <tr>\n",
              "      <th>4</th>\n",
              "      <td>5</td>\n",
              "      <td>Souper presque parfait, Un</td>\n",
              "      <td>V Total</td>\n",
              "      <td>General Channel</td>\n",
              "      <td>Fall</td>\n",
              "      <td>2016</td>\n",
              "      <td>2016-08-29</td>\n",
              "      <td>Monday</td>\n",
              "      <td>2016-08-29 10:00:00</td>\n",
              "      <td>2016-08-29 10:30:00</td>\n",
              "      <td>2</td>\n",
              "      <td>Souper presque parfait, Un</td>\n",
              "      <td>NaN</td>\n",
              "      <td>Reality Programs</td>\n",
              "      <td>No</td>\n",
              "      <td>Yes</td>\n",
              "      <td>No</td>\n",
              "      <td>No</td>\n",
              "      <td>2.2</td>\n",
              "      <td>18.250</td>\n",
              "    </tr>\n",
              "  </tbody>\n",
              "</table>\n",
              "</div>"
            ],
            "text/plain": [
              "   Unnamed: 0  ... Temperature in Montreal during episode\n",
              "0           1  ...                                 20.400\n",
              "1           2  ...                                 19.125\n",
              "2           3  ...                                 19.125\n",
              "3           4  ...                                 18.125\n",
              "4           5  ...                                 18.250\n",
              "\n",
              "[5 rows x 20 columns]"
            ]
          },
          "metadata": {
            "tags": []
          },
          "execution_count": 136
        }
      ]
    },
    {
      "cell_type": "code",
      "metadata": {
        "id": "8hLdXbiiJym3",
        "colab_type": "code",
        "outputId": "96d26a1a-0abf-49bd-c4b3-7ac92e7617f6",
        "colab": {
          "base_uri": "https://localhost:8080/",
          "height": 442
        }
      },
      "source": [
        "TrainSet.info()"
      ],
      "execution_count": 137,
      "outputs": [
        {
          "output_type": "stream",
          "text": [
            "<class 'pandas.core.frame.DataFrame'>\n",
            "RangeIndex: 616656 entries, 0 to 616655\n",
            "Data columns (total 20 columns):\n",
            "Unnamed: 0                                616656 non-null int64\n",
            "Episode                                   616656 non-null object\n",
            "Station                                   616656 non-null object\n",
            "Channel Type                              616656 non-null object\n",
            "Season                                    616656 non-null object\n",
            "Year                                      616656 non-null int64\n",
            "Date                                      616656 non-null object\n",
            "Day of week                               616656 non-null object\n",
            "Start_time                                616613 non-null object\n",
            "End_time                                  616613 non-null object\n",
            "Length                                    616656 non-null int64\n",
            "Name of show                              616656 non-null object\n",
            "Name of episode                           394077 non-null object\n",
            "Genre                                     616656 non-null object\n",
            "First time or rerun                       616656 non-null object\n",
            "# of episode in the season                616656 non-null object\n",
            "Movie?                                    616656 non-null object\n",
            "Game of the Canadiens during episode?     616656 non-null object\n",
            "Market Share_total                        616656 non-null float64\n",
            "Temperature in Montreal during episode    533312 non-null float64\n",
            "dtypes: float64(2), int64(3), object(15)\n",
            "memory usage: 94.1+ MB\n"
          ],
          "name": "stdout"
        }
      ]
    },
    {
      "cell_type": "code",
      "metadata": {
        "id": "sO1cWoyASW-F",
        "colab_type": "code",
        "outputId": "2be7cbf2-7757-47a0-ce1d-b4d1192d0806",
        "colab": {
          "base_uri": "https://localhost:8080/",
          "height": 669
        }
      },
      "source": [
        "CountOfObj=[]\n",
        "for objects in range(20):#Num Of Features \n",
        "  CountOfObj.append([\n",
        "                     len(TrainSet[TrainSet.columns[objects]].unique())\n",
        "                     ])\n",
        "pd.DataFrame(CountOfObj,columns=[\"Unique Count Of Obj\"],index=TrainSet.columns)\n"
      ],
      "execution_count": 138,
      "outputs": [
        {
          "output_type": "execute_result",
          "data": {
            "text/html": [
              "<div>\n",
              "<style scoped>\n",
              "    .dataframe tbody tr th:only-of-type {\n",
              "        vertical-align: middle;\n",
              "    }\n",
              "\n",
              "    .dataframe tbody tr th {\n",
              "        vertical-align: top;\n",
              "    }\n",
              "\n",
              "    .dataframe thead th {\n",
              "        text-align: right;\n",
              "    }\n",
              "</style>\n",
              "<table border=\"1\" class=\"dataframe\">\n",
              "  <thead>\n",
              "    <tr style=\"text-align: right;\">\n",
              "      <th></th>\n",
              "      <th>Unique Count Of Obj</th>\n",
              "    </tr>\n",
              "  </thead>\n",
              "  <tbody>\n",
              "    <tr>\n",
              "      <th>Unnamed: 0</th>\n",
              "      <td>616656</td>\n",
              "    </tr>\n",
              "    <tr>\n",
              "      <th>Episode</th>\n",
              "      <td>6687</td>\n",
              "    </tr>\n",
              "    <tr>\n",
              "      <th>Station</th>\n",
              "      <td>24</td>\n",
              "    </tr>\n",
              "    <tr>\n",
              "      <th>Channel Type</th>\n",
              "      <td>2</td>\n",
              "    </tr>\n",
              "    <tr>\n",
              "      <th>Season</th>\n",
              "      <td>4</td>\n",
              "    </tr>\n",
              "    <tr>\n",
              "      <th>Year</th>\n",
              "      <td>4</td>\n",
              "    </tr>\n",
              "    <tr>\n",
              "      <th>Date</th>\n",
              "      <td>877</td>\n",
              "    </tr>\n",
              "    <tr>\n",
              "      <th>Day of week</th>\n",
              "      <td>7</td>\n",
              "    </tr>\n",
              "    <tr>\n",
              "      <th>Start_time</th>\n",
              "      <td>138322</td>\n",
              "    </tr>\n",
              "    <tr>\n",
              "      <th>End_time</th>\n",
              "      <td>138334</td>\n",
              "    </tr>\n",
              "    <tr>\n",
              "      <th>Length</th>\n",
              "      <td>39</td>\n",
              "    </tr>\n",
              "    <tr>\n",
              "      <th>Name of show</th>\n",
              "      <td>6687</td>\n",
              "    </tr>\n",
              "    <tr>\n",
              "      <th>Name of episode</th>\n",
              "      <td>86557</td>\n",
              "    </tr>\n",
              "    <tr>\n",
              "      <th>Genre</th>\n",
              "      <td>27</td>\n",
              "    </tr>\n",
              "    <tr>\n",
              "      <th>First time or rerun</th>\n",
              "      <td>2</td>\n",
              "    </tr>\n",
              "    <tr>\n",
              "      <th># of episode in the season</th>\n",
              "      <td>2</td>\n",
              "    </tr>\n",
              "    <tr>\n",
              "      <th>Movie?</th>\n",
              "      <td>2</td>\n",
              "    </tr>\n",
              "    <tr>\n",
              "      <th>Game of the Canadiens during episode?</th>\n",
              "      <td>2</td>\n",
              "    </tr>\n",
              "    <tr>\n",
              "      <th>Market Share_total</th>\n",
              "      <td>545</td>\n",
              "    </tr>\n",
              "    <tr>\n",
              "      <th>Temperature in Montreal during episode</th>\n",
              "      <td>11829</td>\n",
              "    </tr>\n",
              "  </tbody>\n",
              "</table>\n",
              "</div>"
            ],
            "text/plain": [
              "                                        Unique Count Of Obj\n",
              "Unnamed: 0                                           616656\n",
              "Episode                                                6687\n",
              "Station                                                  24\n",
              "Channel Type                                              2\n",
              "Season                                                    4\n",
              "Year                                                      4\n",
              "Date                                                    877\n",
              "Day of week                                               7\n",
              "Start_time                                           138322\n",
              "End_time                                             138334\n",
              "Length                                                   39\n",
              "Name of show                                           6687\n",
              "Name of episode                                       86557\n",
              "Genre                                                    27\n",
              "First time or rerun                                       2\n",
              "# of episode in the season                                2\n",
              "Movie?                                                    2\n",
              "Game of the Canadiens during episode?                     2\n",
              "Market Share_total                                      545\n",
              "Temperature in Montreal during episode                11829"
            ]
          },
          "metadata": {
            "tags": []
          },
          "execution_count": 138
        }
      ]
    },
    {
      "cell_type": "markdown",
      "metadata": {
        "id": "43URblTHY3cw",
        "colab_type": "text"
      },
      "source": [
        "##Do Numeric Dataset"
      ]
    },
    {
      "cell_type": "code",
      "metadata": {
        "id": "conYRyqIMVDO",
        "colab_type": "code",
        "outputId": "cfb60c06-7d12-47a1-fbc6-4737140d4fa1",
        "colab": {
          "base_uri": "https://localhost:8080/",
          "height": 479
        }
      },
      "source": [
        "#--------------------------Take DataSet in Numeric Shape-----------------------------\n",
        "#------------------------------------TrainSet----------------------------------------\n",
        "TrainSet[\"Season\"] = pd.get_dummies(TrainSet[\"Season\"])\n",
        "TrainSet[\"First time or rerun\"] = pd.get_dummies(TrainSet[\"First time or rerun\"])\n",
        "TrainSet[\"# of episode in the season\"] = pd.get_dummies(TrainSet[\"# of episode in the season\"])\n",
        "TrainSet[\"Game of the Canadiens during episode?\"] = pd.get_dummies(TrainSet[\"Game of the Canadiens during episode?\"])\n",
        "TrainSet[\"Movie?\"] = pd.get_dummies(TrainSet[\"Movie?\"])\n",
        "TrainSet[\"Station\"] = pd.get_dummies(TrainSet[\"Station\"])\n",
        "TrainSet[\"Genre\"] = pd.get_dummies(TrainSet[\"Genre\"])\n",
        "TrainSet[\"Day of week\"] = pd.get_dummies(TrainSet[\"Day of week\"])\n",
        "TrainSet['Channel Type'] = pd.get_dummies(TrainSet['Channel Type'])\n",
        "TrainSet[\"Date\"] = TrainSet[\"Date\"].astype(\"datetime64[ns]\")\n",
        "TrainSet[\"Start_time\"] = TrainSet[\"Start_time\"].astype(\"datetime64[ns]\")\n",
        "TrainSet[\"End_time\"] = TrainSet[\"End_time\"].astype(\"datetime64[ns]\")\n",
        "TrainSet.head()\n",
        "#------------------------------------TestSet----------------------------------------\n",
        "TestSet[\"Season\"] = pd.get_dummies(TestSet[\"Season\"])\n",
        "TestSet[\"First time or rerun\"] = pd.get_dummies(TestSet[\"First time or rerun\"])\n",
        "TestSet[\"# of episode in the season\"] = pd.get_dummies(TestSet[\"# of episode in the season\"])\n",
        "TestSet[\"Temperature in Montreal during episode\"] = pd.get_dummies(TestSet[\"Temperature in Montreal during episode\"])\n",
        "TestSet[\"Movie?\"] = pd.get_dummies(TestSet[\"Movie?\"])\n",
        "TestSet[\"Game of the Canadiens during episode?\"] = pd.get_dummies(TestSet[\"Game of the Canadiens during episode?\"])\n",
        "TestSet[\"Station\"] = pd.get_dummies(TestSet[\"Station\"])\n",
        "TestSet[\"Genre\"] = pd.get_dummies(TestSet[\"Genre\"])\n",
        "TestSet[\"Day of week\"] = pd.get_dummies(TestSet[\"Day of week\"])\n",
        "TestSet['Channel Type'] = pd.get_dummies(TestSet['Channel Type'])\n",
        "TestSet[\"Date\"] = TestSet[\"Date\"].astype(\"datetime64[ns]\")\n",
        "TestSet[\"Start_time\"] = TestSet[\"Start_time\"].astype(\"datetime64[ns]\")\n",
        "TestSet[\"End_time\"] = TestSet[\"End_time\"].astype(\"datetime64[ns]\")\n",
        "TestSet.head()\n",
        "#\"Station\",\"Channel Type\",\"Day of week\",\"Season\",\"\tLength\",\"Genre\",\"First time or rerun\",\"Movie?\",\"Game of the Canadiens during episode?\",\"Temperature in Montreal during episode\""
      ],
      "execution_count": 139,
      "outputs": [
        {
          "output_type": "execute_result",
          "data": {
            "text/html": [
              "<div>\n",
              "<style scoped>\n",
              "    .dataframe tbody tr th:only-of-type {\n",
              "        vertical-align: middle;\n",
              "    }\n",
              "\n",
              "    .dataframe tbody tr th {\n",
              "        vertical-align: top;\n",
              "    }\n",
              "\n",
              "    .dataframe thead th {\n",
              "        text-align: right;\n",
              "    }\n",
              "</style>\n",
              "<table border=\"1\" class=\"dataframe\">\n",
              "  <thead>\n",
              "    <tr style=\"text-align: right;\">\n",
              "      <th></th>\n",
              "      <th>Unnamed: 0</th>\n",
              "      <th>Episode</th>\n",
              "      <th>Station</th>\n",
              "      <th>Channel Type</th>\n",
              "      <th>Season</th>\n",
              "      <th>Year</th>\n",
              "      <th>Date</th>\n",
              "      <th>Day of week</th>\n",
              "      <th>Start_time</th>\n",
              "      <th>End_time</th>\n",
              "      <th>Length</th>\n",
              "      <th>Name of show</th>\n",
              "      <th>Name of episode</th>\n",
              "      <th>Genre</th>\n",
              "      <th>First time or rerun</th>\n",
              "      <th># of episode in the season</th>\n",
              "      <th>Movie?</th>\n",
              "      <th>Game of the Canadiens during episode?</th>\n",
              "      <th>Temperature in Montreal during episode</th>\n",
              "    </tr>\n",
              "  </thead>\n",
              "  <tbody>\n",
              "    <tr>\n",
              "      <th>0</th>\n",
              "      <td>1</td>\n",
              "      <td>Mom V.F. (M)</td>\n",
              "      <td>0</td>\n",
              "      <td>0</td>\n",
              "      <td>0</td>\n",
              "      <td>2019</td>\n",
              "      <td>2019-01-22</td>\n",
              "      <td>0</td>\n",
              "      <td>2019-01-22 11:30:00</td>\n",
              "      <td>2019-01-22 12:00:00</td>\n",
              "      <td>2</td>\n",
              "      <td>Mom V.F. (M)</td>\n",
              "      <td>Abstinence</td>\n",
              "      <td>0</td>\n",
              "      <td>1</td>\n",
              "      <td>0</td>\n",
              "      <td>1</td>\n",
              "      <td>1</td>\n",
              "      <td>0</td>\n",
              "    </tr>\n",
              "    <tr>\n",
              "      <th>1</th>\n",
              "      <td>2</td>\n",
              "      <td>2 filles fauchées</td>\n",
              "      <td>0</td>\n",
              "      <td>0</td>\n",
              "      <td>0</td>\n",
              "      <td>2019</td>\n",
              "      <td>2019-01-22</td>\n",
              "      <td>0</td>\n",
              "      <td>2019-01-22 12:00:00</td>\n",
              "      <td>2019-01-22 12:30:00</td>\n",
              "      <td>2</td>\n",
              "      <td>2 filles fauchées</td>\n",
              "      <td>Et la rupture</td>\n",
              "      <td>0</td>\n",
              "      <td>1</td>\n",
              "      <td>0</td>\n",
              "      <td>1</td>\n",
              "      <td>1</td>\n",
              "      <td>0</td>\n",
              "    </tr>\n",
              "    <tr>\n",
              "      <th>2</th>\n",
              "      <td>3</td>\n",
              "      <td>The Big Bang Theory</td>\n",
              "      <td>0</td>\n",
              "      <td>0</td>\n",
              "      <td>0</td>\n",
              "      <td>2019</td>\n",
              "      <td>2019-01-22</td>\n",
              "      <td>0</td>\n",
              "      <td>2019-01-22 12:30:00</td>\n",
              "      <td>2019-01-22 13:00:00</td>\n",
              "      <td>2</td>\n",
              "      <td>The Big Bang Theory</td>\n",
              "      <td>La désintégration de la sonde spatiale</td>\n",
              "      <td>0</td>\n",
              "      <td>1</td>\n",
              "      <td>0</td>\n",
              "      <td>1</td>\n",
              "      <td>1</td>\n",
              "      <td>0</td>\n",
              "    </tr>\n",
              "    <tr>\n",
              "      <th>3</th>\n",
              "      <td>4</td>\n",
              "      <td>Flashpoint</td>\n",
              "      <td>0</td>\n",
              "      <td>0</td>\n",
              "      <td>0</td>\n",
              "      <td>2019</td>\n",
              "      <td>2019-01-22</td>\n",
              "      <td>0</td>\n",
              "      <td>2019-01-22 13:00:00</td>\n",
              "      <td>2019-01-22 14:00:00</td>\n",
              "      <td>4</td>\n",
              "      <td>Flashpoint</td>\n",
              "      <td>Retraite impossible (P)</td>\n",
              "      <td>0</td>\n",
              "      <td>0</td>\n",
              "      <td>0</td>\n",
              "      <td>1</td>\n",
              "      <td>1</td>\n",
              "      <td>0</td>\n",
              "    </tr>\n",
              "    <tr>\n",
              "      <th>4</th>\n",
              "      <td>5</td>\n",
              "      <td>Les Frères Scott</td>\n",
              "      <td>0</td>\n",
              "      <td>0</td>\n",
              "      <td>0</td>\n",
              "      <td>2019</td>\n",
              "      <td>2019-01-22</td>\n",
              "      <td>0</td>\n",
              "      <td>2019-01-22 14:00:00</td>\n",
              "      <td>2019-01-22 15:00:00</td>\n",
              "      <td>4</td>\n",
              "      <td>Les Frères Scott</td>\n",
              "      <td>Premières désillusions</td>\n",
              "      <td>0</td>\n",
              "      <td>1</td>\n",
              "      <td>0</td>\n",
              "      <td>1</td>\n",
              "      <td>1</td>\n",
              "      <td>0</td>\n",
              "    </tr>\n",
              "  </tbody>\n",
              "</table>\n",
              "</div>"
            ],
            "text/plain": [
              "   Unnamed: 0  ... Temperature in Montreal during episode\n",
              "0           1  ...                                      0\n",
              "1           2  ...                                      0\n",
              "2           3  ...                                      0\n",
              "3           4  ...                                      0\n",
              "4           5  ...                                      0\n",
              "\n",
              "[5 rows x 19 columns]"
            ]
          },
          "metadata": {
            "tags": []
          },
          "execution_count": 139
        }
      ]
    },
    {
      "cell_type": "markdown",
      "metadata": {
        "id": "Q8NmNF0hYuQz",
        "colab_type": "text"
      },
      "source": [
        "##Plot Some Features With Together"
      ]
    },
    {
      "cell_type": "markdown",
      "metadata": {
        "id": "dY0UB2ba_D3h",
        "colab_type": "text"
      },
      "source": [
        "With plotting correlation between features i Relatively can find good feature:)"
      ]
    },
    {
      "cell_type": "code",
      "metadata": {
        "id": "fUja0Cz29KNQ",
        "colab_type": "code",
        "outputId": "0e1bcf67-d878-4f91-e566-04d7b3531809",
        "colab": {
          "base_uri": "https://localhost:8080/",
          "height": 648
        }
      },
      "source": [
        "#------------------let's create a correlation matrix----------------------------\n",
        "import matplotlib.pyplot as plt\n",
        "import seaborn as sns\n",
        "corr = TrainSet.corr() \n",
        "plt.subplots(figsize=(11, 9))\n",
        "# Generate a custom diverging colormap\n",
        "cmap = sns.diverging_palette(220, 10, as_cmap=True)\n",
        "# Draw the heatmap with the mask and correct aspect ratio\n",
        "sns.heatmap(corr, cmap=cmap, vmax=.3, center=0,\n",
        "            square=True, linewidths=.5, cbar_kws={\"shrink\": .5})"
      ],
      "execution_count": 140,
      "outputs": [
        {
          "output_type": "execute_result",
          "data": {
            "text/plain": [
              "<matplotlib.axes._subplots.AxesSubplot at 0x7f6f659dcb00>"
            ]
          },
          "metadata": {
            "tags": []
          },
          "execution_count": 140
        },
        {
          "output_type": "display_data",
          "data": {
            "image/png": "[encoded data removed]",
            "text/plain": [
              "<Figure size 792x648 with 2 Axes>"
            ]
          },
          "metadata": {
            "tags": []
          }
        }
      ]
    },
    {
      "cell_type": "code",
      "metadata": {
        "id": "skveaH925fAs",
        "colab_type": "code",
        "outputId": "25cc2797-4683-410b-b61b-6c3ee8a0707c",
        "colab": {
          "base_uri": "https://localhost:8080/",
          "height": 297
        }
      },
      "source": [
        "import seaborn as sns\n",
        "columns=TrainSet.columns\n",
        "sns.scatterplot(x=columns[18],y=columns[10],data=TrainSet,color=\"red\")"
      ],
      "execution_count": 141,
      "outputs": [
        {
          "output_type": "execute_result",
          "data": {
            "text/plain": [
              "<matplotlib.axes._subplots.AxesSubplot at 0x7f6f65a67f28>"
            ]
          },
          "metadata": {
            "tags": []
          },
          "execution_count": 141
        },
        {
          "output_type": "display_data",
          "data": {
            "image/png": "[encoded data removed]",
            "text/plain": [
              "<Figure size 432x288 with 1 Axes>"
            ]
          },
          "metadata": {
            "tags": []
          }
        }
      ]
    },
    {
      "cell_type": "code",
      "metadata": {
        "id": "h0VMYvNt-r3J",
        "colab_type": "code",
        "outputId": "80aa4301-5a39-436b-9b2d-3533568a085c",
        "colab": {
          "base_uri": "https://localhost:8080/",
          "height": 34
        }
      },
      "source": [
        "columns[10]"
      ],
      "execution_count": 142,
      "outputs": [
        {
          "output_type": "execute_result",
          "data": {
            "text/plain": [
              "'Length'"
            ]
          },
          "metadata": {
            "tags": []
          },
          "execution_count": 142
        }
      ]
    },
    {
      "cell_type": "code",
      "metadata": {
        "id": "4iMDK7RUBU2t",
        "colab_type": "code",
        "outputId": "4105c9bb-b438-496f-ddc0-f59f53be6b17",
        "colab": {
          "base_uri": "https://localhost:8080/",
          "height": 470
        }
      },
      "source": [
        "Seasons=['Fall','Winter','Spring','Summer']\n",
        "for season in Seasons:\n",
        "  sns.distplot(TrainSet[TrainSet['Season']==season]['Market Share_total'],\n",
        "               label=season,hist=False)\n",
        "  plt.legend()\n"
      ],
      "execution_count": 143,
      "outputs": [
        {
          "output_type": "stream",
          "text": [
            "/usr/local/lib/python3.6/dist-packages/pandas/core/ops/__init__.py:1115: FutureWarning: elementwise comparison failed; returning scalar instead, but in the future will perform elementwise comparison\n",
            "  result = method(y)\n",
            "/usr/local/lib/python3.6/dist-packages/seaborn/distributions.py:200: RuntimeWarning: Mean of empty slice.\n",
            "  line, = ax.plot(a.mean(), 0)\n",
            "/usr/local/lib/python3.6/dist-packages/numpy/core/_methods.py:161: RuntimeWarning: invalid value encountered in double_scalars\n",
            "  ret = ret.dtype.type(ret / rcount)\n",
            "No handles with labels found to put in legend.\n",
            "No handles with labels found to put in legend.\n",
            "No handles with labels found to put in legend.\n",
            "No handles with labels found to put in legend.\n"
          ],
          "name": "stderr"
        },
        {
          "output_type": "display_data",
          "data": {
            "image/png": "[encoded data removed]",
            "text/plain": [
              "<Figure size 432x288 with 1 Axes>"
            ]
          },
          "metadata": {
            "tags": []
          }
        }
      ]
    },
    {
      "cell_type": "markdown",
      "metadata": {
        "id": "FKwTXBoJNEBI",
        "colab_type": "text"
      },
      "source": [
        "We See That The Effect In Summer On Market Is More Than Other Seasons:)"
      ]
    },
    {
      "cell_type": "code",
      "metadata": {
        "id": "5a5U7recJB71",
        "colab_type": "code",
        "outputId": "0c3e71d6-3843-44f0-b079-5d0c313cb455",
        "colab": {
          "base_uri": "https://localhost:8080/",
          "height": 204
        }
      },
      "source": [
        "TrainSet.groupby(['Year'])['Market Share_total'].describe()"
      ],
      "execution_count": 144,
      "outputs": [
        {
          "output_type": "execute_result",
          "data": {
            "text/html": [
              "<div>\n",
              "<style scoped>\n",
              "    .dataframe tbody tr th:only-of-type {\n",
              "        vertical-align: middle;\n",
              "    }\n",
              "\n",
              "    .dataframe tbody tr th {\n",
              "        vertical-align: top;\n",
              "    }\n",
              "\n",
              "    .dataframe thead th {\n",
              "        text-align: right;\n",
              "    }\n",
              "</style>\n",
              "<table border=\"1\" class=\"dataframe\">\n",
              "  <thead>\n",
              "    <tr style=\"text-align: right;\">\n",
              "      <th></th>\n",
              "      <th>count</th>\n",
              "      <th>mean</th>\n",
              "      <th>std</th>\n",
              "      <th>min</th>\n",
              "      <th>25%</th>\n",
              "      <th>50%</th>\n",
              "      <th>75%</th>\n",
              "      <th>max</th>\n",
              "    </tr>\n",
              "    <tr>\n",
              "      <th>Year</th>\n",
              "      <th></th>\n",
              "      <th></th>\n",
              "      <th></th>\n",
              "      <th></th>\n",
              "      <th></th>\n",
              "      <th></th>\n",
              "      <th></th>\n",
              "      <th></th>\n",
              "    </tr>\n",
              "  </thead>\n",
              "  <tbody>\n",
              "    <tr>\n",
              "      <th>2016</th>\n",
              "      <td>75849.0</td>\n",
              "      <td>3.108839</td>\n",
              "      <td>5.049589</td>\n",
              "      <td>0.0</td>\n",
              "      <td>0.5</td>\n",
              "      <td>1.5</td>\n",
              "      <td>3.4</td>\n",
              "      <td>56.0</td>\n",
              "    </tr>\n",
              "    <tr>\n",
              "      <th>2017</th>\n",
              "      <td>255214.0</td>\n",
              "      <td>3.114138</td>\n",
              "      <td>4.950458</td>\n",
              "      <td>0.0</td>\n",
              "      <td>0.5</td>\n",
              "      <td>1.4</td>\n",
              "      <td>3.5</td>\n",
              "      <td>85.4</td>\n",
              "    </tr>\n",
              "    <tr>\n",
              "      <th>2018</th>\n",
              "      <td>260132.0</td>\n",
              "      <td>2.894652</td>\n",
              "      <td>4.854561</td>\n",
              "      <td>0.0</td>\n",
              "      <td>0.4</td>\n",
              "      <td>1.3</td>\n",
              "      <td>3.2</td>\n",
              "      <td>86.6</td>\n",
              "    </tr>\n",
              "    <tr>\n",
              "      <th>2019</th>\n",
              "      <td>25461.0</td>\n",
              "      <td>2.888021</td>\n",
              "      <td>4.846557</td>\n",
              "      <td>0.0</td>\n",
              "      <td>0.4</td>\n",
              "      <td>1.3</td>\n",
              "      <td>3.2</td>\n",
              "      <td>89.5</td>\n",
              "    </tr>\n",
              "  </tbody>\n",
              "</table>\n",
              "</div>"
            ],
            "text/plain": [
              "         count      mean       std  min  25%  50%  75%   max\n",
              "Year                                                        \n",
              "2016   75849.0  3.108839  5.049589  0.0  0.5  1.5  3.4  56.0\n",
              "2017  255214.0  3.114138  4.950458  0.0  0.5  1.4  3.5  85.4\n",
              "2018  260132.0  2.894652  4.854561  0.0  0.4  1.3  3.2  86.6\n",
              "2019   25461.0  2.888021  4.846557  0.0  0.4  1.3  3.2  89.5"
            ]
          },
          "metadata": {
            "tags": []
          },
          "execution_count": 144
        }
      ]
    },
    {
      "cell_type": "code",
      "metadata": {
        "id": "LOmU8vBsKmli",
        "colab_type": "code",
        "outputId": "d30cc336-448c-48ab-aa05-9baca0c4d39f",
        "colab": {
          "base_uri": "https://localhost:8080/",
          "height": 296
        }
      },
      "source": [
        "sns.boxenplot(x=\"Year\",y=\"Market Share_total\",data=TrainSet)"
      ],
      "execution_count": 145,
      "outputs": [
        {
          "output_type": "execute_result",
          "data": {
            "text/plain": [
              "<matplotlib.axes._subplots.AxesSubplot at 0x7f6f65780978>"
            ]
          },
          "metadata": {
            "tags": []
          },
          "execution_count": 145
        },
        {
          "output_type": "display_data",
          "data": {
            "image/png": "[encoded data removed]",
            "text/plain": [
              "<Figure size 432x288 with 1 Axes>"
            ]
          },
          "metadata": {
            "tags": []
          }
        }
      ]
    },
    {
      "cell_type": "markdown",
      "metadata": {
        "id": "fJ-FOa_gNLNc",
        "colab_type": "text"
      },
      "source": [
        "The Data in 2019 Has More Outliers Than Others"
      ]
    },
    {
      "cell_type": "code",
      "metadata": {
        "id": "sz8On-MQLiZ6",
        "colab_type": "code",
        "outputId": "597bb99d-8be7-4905-d448-764226f22b1b",
        "colab": {
          "base_uri": "https://localhost:8080/",
          "height": 296
        }
      },
      "source": [
        "sns.boxenplot(x=\"Channel Type\",y=\"Market Share_total\",data=TrainSet)"
      ],
      "execution_count": 146,
      "outputs": [
        {
          "output_type": "execute_result",
          "data": {
            "text/plain": [
              "<matplotlib.axes._subplots.AxesSubplot at 0x7f6f657b3710>"
            ]
          },
          "metadata": {
            "tags": []
          },
          "execution_count": 146
        },
        {
          "output_type": "display_data",
          "data": {
            "image/png": "[encoded data removed]",
            "text/plain": [
              "<Figure size 432x288 with 1 Axes>"
            ]
          },
          "metadata": {
            "tags": []
          }
        }
      ]
    },
    {
      "cell_type": "markdown",
      "metadata": {
        "id": "K97L5v4VMkRx",
        "colab_type": "text"
      },
      "source": [
        "We See That The Effect On Market By \"Specialty Channel\" Is More Than \"General\" Mode:)"
      ]
    },
    {
      "cell_type": "code",
      "metadata": {
        "id": "90FnmnHe_4q6",
        "colab_type": "code",
        "outputId": "35f25f55-0605-480e-e682-00e9a4ae2768",
        "colab": {
          "base_uri": "https://localhost:8080/",
          "height": 296
        }
      },
      "source": [
        "import seaborn as sns\n",
        "columns=TrainSet.columns\n",
        "#sns.set_style('whitegrid')\n",
        "sns.scatterplot(x=columns[5],y=columns[18],data=TrainSet,color=\"red\")"
      ],
      "execution_count": 147,
      "outputs": [
        {
          "output_type": "execute_result",
          "data": {
            "text/plain": [
              "<matplotlib.axes._subplots.AxesSubplot at 0x7f6f656890f0>"
            ]
          },
          "metadata": {
            "tags": []
          },
          "execution_count": 147
        },
        {
          "output_type": "display_data",
          "data": {
            "image/png": "[encoded data removed]",
            "text/plain": [
              "<Figure size 432x288 with 1 Axes>"
            ]
          },
          "metadata": {
            "tags": []
          }
        }
      ]
    },
    {
      "cell_type": "markdown",
      "metadata": {
        "id": "w1J0sG53NVa_",
        "colab_type": "text"
      },
      "source": [
        "Nothing!"
      ]
    },
    {
      "cell_type": "code",
      "metadata": {
        "id": "JMKNjr21-grU",
        "colab_type": "code",
        "outputId": "f37ddc64-2ec4-4d80-9130-305d4f683285",
        "colab": {
          "base_uri": "https://localhost:8080/",
          "height": 297
        }
      },
      "source": [
        "import seaborn as sns\n",
        "columns=TrainSet.columns\n",
        "#sns.set_style('whitegrid')\n",
        "sns.scatterplot(x=columns[18],y=columns[19],data=TrainSet,color=\"red\")"
      ],
      "execution_count": 148,
      "outputs": [
        {
          "output_type": "execute_result",
          "data": {
            "text/plain": [
              "<matplotlib.axes._subplots.AxesSubplot at 0x7f6f655ff5f8>"
            ]
          },
          "metadata": {
            "tags": []
          },
          "execution_count": 148
        },
        {
          "output_type": "display_data",
          "data": {
            "image/png": "[encoded data removed]",
            "text/plain": [
              "<Figure size 432x288 with 1 Axes>"
            ]
          },
          "metadata": {
            "tags": []
          }
        }
      ]
    },
    {
      "cell_type": "markdown",
      "metadata": {
        "id": "X5mh4ASRNX4w",
        "colab_type": "text"
      },
      "source": [
        "This Two Have Acceptable Relation!"
      ]
    },
    {
      "cell_type": "markdown",
      "metadata": {
        "id": "mrKA8DbcAQ7G",
        "colab_type": "text"
      },
      "source": [
        "Because Of Having Lenght,I Don't Need to Start_time and End_time:"
      ]
    },
    {
      "cell_type": "markdown",
      "metadata": {
        "id": "2eA9rlzZYf9M",
        "colab_type": "text"
      },
      "source": [
        "## Drop Unnecessary Features"
      ]
    },
    {
      "cell_type": "code",
      "metadata": {
        "id": "YdkoE02SM32B",
        "colab_type": "code",
        "outputId": "ac17917d-16bf-4631-b0b4-d21f40ad550a",
        "colab": {
          "base_uri": "https://localhost:8080/",
          "height": 292
        }
      },
      "source": [
        "#1-----------------------------First Result-------------------------------------------\n",
        "TrainSet['Episode'].equals(TrainSet['Name of show'])\n",
        "#This Two Columns Are Same!\n",
        "#-----------------------------So I Drop One of Them:)----------------------------------\n",
        "TrainSet=TrainSet.drop(['Name of show','Unnamed: 0'], axis=1)\n",
        "TestSet=TestSet.drop(['Name of show','Unnamed: 0'], axis=1)\n",
        "#----by taking correlation between data,i try to drop the columns by low corr:)-------\n",
        "#-----------by doing this i solve Nan problem with data-------------------------------\n",
        "TrainSet.drop(['Episode','Year', 'Date','Name of episode','Start_time','End_time',], axis = 1, inplace = True) \n",
        "TrainSet.head()\n",
        "TestSet.drop(['Episode','Year', 'Date','Name of episode','Start_time','End_time',], axis = 1, inplace = True) \n",
        "TestSet.head()"
      ],
      "execution_count": 149,
      "outputs": [
        {
          "output_type": "execute_result",
          "data": {
            "text/html": [
              "<div>\n",
              "<style scoped>\n",
              "    .dataframe tbody tr th:only-of-type {\n",
              "        vertical-align: middle;\n",
              "    }\n",
              "\n",
              "    .dataframe tbody tr th {\n",
              "        vertical-align: top;\n",
              "    }\n",
              "\n",
              "    .dataframe thead th {\n",
              "        text-align: right;\n",
              "    }\n",
              "</style>\n",
              "<table border=\"1\" class=\"dataframe\">\n",
              "  <thead>\n",
              "    <tr style=\"text-align: right;\">\n",
              "      <th></th>\n",
              "      <th>Station</th>\n",
              "      <th>Channel Type</th>\n",
              "      <th>Season</th>\n",
              "      <th>Day of week</th>\n",
              "      <th>Length</th>\n",
              "      <th>Genre</th>\n",
              "      <th>First time or rerun</th>\n",
              "      <th># of episode in the season</th>\n",
              "      <th>Movie?</th>\n",
              "      <th>Game of the Canadiens during episode?</th>\n",
              "      <th>Temperature in Montreal during episode</th>\n",
              "    </tr>\n",
              "  </thead>\n",
              "  <tbody>\n",
              "    <tr>\n",
              "      <th>0</th>\n",
              "      <td>0</td>\n",
              "      <td>0</td>\n",
              "      <td>0</td>\n",
              "      <td>0</td>\n",
              "      <td>2</td>\n",
              "      <td>0</td>\n",
              "      <td>1</td>\n",
              "      <td>0</td>\n",
              "      <td>1</td>\n",
              "      <td>1</td>\n",
              "      <td>0</td>\n",
              "    </tr>\n",
              "    <tr>\n",
              "      <th>1</th>\n",
              "      <td>0</td>\n",
              "      <td>0</td>\n",
              "      <td>0</td>\n",
              "      <td>0</td>\n",
              "      <td>2</td>\n",
              "      <td>0</td>\n",
              "      <td>1</td>\n",
              "      <td>0</td>\n",
              "      <td>1</td>\n",
              "      <td>1</td>\n",
              "      <td>0</td>\n",
              "    </tr>\n",
              "    <tr>\n",
              "      <th>2</th>\n",
              "      <td>0</td>\n",
              "      <td>0</td>\n",
              "      <td>0</td>\n",
              "      <td>0</td>\n",
              "      <td>2</td>\n",
              "      <td>0</td>\n",
              "      <td>1</td>\n",
              "      <td>0</td>\n",
              "      <td>1</td>\n",
              "      <td>1</td>\n",
              "      <td>0</td>\n",
              "    </tr>\n",
              "    <tr>\n",
              "      <th>3</th>\n",
              "      <td>0</td>\n",
              "      <td>0</td>\n",
              "      <td>0</td>\n",
              "      <td>0</td>\n",
              "      <td>4</td>\n",
              "      <td>0</td>\n",
              "      <td>0</td>\n",
              "      <td>0</td>\n",
              "      <td>1</td>\n",
              "      <td>1</td>\n",
              "      <td>0</td>\n",
              "    </tr>\n",
              "    <tr>\n",
              "      <th>4</th>\n",
              "      <td>0</td>\n",
              "      <td>0</td>\n",
              "      <td>0</td>\n",
              "      <td>0</td>\n",
              "      <td>4</td>\n",
              "      <td>0</td>\n",
              "      <td>1</td>\n",
              "      <td>0</td>\n",
              "      <td>1</td>\n",
              "      <td>1</td>\n",
              "      <td>0</td>\n",
              "    </tr>\n",
              "  </tbody>\n",
              "</table>\n",
              "</div>"
            ],
            "text/plain": [
              "   Station  ...  Temperature in Montreal during episode\n",
              "0        0  ...                                       0\n",
              "1        0  ...                                       0\n",
              "2        0  ...                                       0\n",
              "3        0  ...                                       0\n",
              "4        0  ...                                       0\n",
              "\n",
              "[5 rows x 11 columns]"
            ]
          },
          "metadata": {
            "tags": []
          },
          "execution_count": 149
        }
      ]
    },
    {
      "cell_type": "markdown",
      "metadata": {
        "id": "1TXTatRkYZ8Q",
        "colab_type": "text"
      },
      "source": [
        "##Test Train Split"
      ]
    },
    {
      "cell_type": "code",
      "metadata": {
        "id": "Uc2YITwc0mXt",
        "colab_type": "code",
        "outputId": "6a6fd615-abe5-45e5-b82b-cc21d051db58",
        "colab": {
          "base_uri": "https://localhost:8080/",
          "height": 221
        }
      },
      "source": [
        "#--------------------------------------Make X,y Data------------------------------\n",
        "#----------------------------------------TrainSet---------------------------------\n",
        "XTrainData=TrainSet[TrainSet.columns[:-1]]\n",
        "YTrainLable=TrainSet[\"Market Share_total\"]\n",
        "YTrainLable"
      ],
      "execution_count": 150,
      "outputs": [
        {
          "output_type": "execute_result",
          "data": {
            "text/plain": [
              "0         0.9\n",
              "1         0.5\n",
              "2         0.3\n",
              "3         1.7\n",
              "4         2.2\n",
              "         ... \n",
              "616651    0.0\n",
              "616652    1.1\n",
              "616653    0.3\n",
              "616654    0.4\n",
              "616655    1.6\n",
              "Name: Market Share_total, Length: 616656, dtype: float64"
            ]
          },
          "metadata": {
            "tags": []
          },
          "execution_count": 150
        }
      ]
    },
    {
      "cell_type": "code",
      "metadata": {
        "id": "k1GOMSEd0mUq",
        "colab_type": "code",
        "outputId": "0e335800-fd06-4f64-f618-285f8cbc34f2",
        "colab": {
          "base_uri": "https://localhost:8080/",
          "height": 34
        }
      },
      "source": [
        "#---------------------------TestTrainSplit For TrainSet-----------------------------\n",
        "from sklearn.model_selection import train_test_split\n",
        "XTrain, XTest, YTrain, YTest = train_test_split(XTrainData,YTrainLable, test_size = 0.3, random_state=123)\n",
        "XTrain.shape"
      ],
      "execution_count": 151,
      "outputs": [
        {
          "output_type": "execute_result",
          "data": {
            "text/plain": [
              "(431659, 11)"
            ]
          },
          "metadata": {
            "tags": []
          },
          "execution_count": 151
        }
      ]
    },
    {
      "cell_type": "markdown",
      "metadata": {
        "id": "JArPd6EK3F3i",
        "colab_type": "text"
      },
      "source": [
        "##LinearRegression"
      ]
    },
    {
      "cell_type": "code",
      "metadata": {
        "id": "ucgdCaOt3KJc",
        "colab_type": "code",
        "outputId": "655d9795-604d-4dee-e5f6-86076cd7c6a8",
        "colab": {
          "base_uri": "https://localhost:8080/",
          "height": 34
        }
      },
      "source": [
        "from sklearn.linear_model import LinearRegression \n",
        "Reg= LinearRegression()\n",
        "Reg.fit(XTrain,YTrain)\n"
      ],
      "execution_count": 152,
      "outputs": [
        {
          "output_type": "execute_result",
          "data": {
            "text/plain": [
              "LinearRegression(copy_X=True, fit_intercept=True, n_jobs=None, normalize=False)"
            ]
          },
          "metadata": {
            "tags": []
          },
          "execution_count": 152
        }
      ]
    },
    {
      "cell_type": "code",
      "metadata": {
        "id": "DHf_AzpP3KD8",
        "colab_type": "code",
        "outputId": "97072a8b-f490-49bd-b2a0-b30fb14c08fb",
        "colab": {
          "base_uri": "https://localhost:8080/",
          "height": 34
        }
      },
      "source": [
        "from sklearn.metrics import r2_score\n",
        "Pred=Reg.predict(XTest)\n",
        "r2_score(YTest,Pred)"
      ],
      "execution_count": 153,
      "outputs": [
        {
          "output_type": "execute_result",
          "data": {
            "text/plain": [
              "1.0"
            ]
          },
          "metadata": {
            "tags": []
          },
          "execution_count": 153
        }
      ]
    },
    {
      "cell_type": "markdown",
      "metadata": {
        "colab_type": "text",
        "id": "elHymTYKrFDo"
      },
      "source": [
        "##AdaBoost"
      ]
    },
    {
      "cell_type": "code",
      "metadata": {
        "colab_type": "code",
        "outputId": "88831ef7-82d7-4bf4-898c-a991d33e7699",
        "id": "oQQBoAbjrFDX",
        "colab": {
          "base_uri": "https://localhost:8080/",
          "height": 272
        }
      },
      "source": [
        "from sklearn.ensemble import AdaBoostRegressor\n",
        "from sklearn.tree import DecisionTreeRegressor\n",
        "AB=AdaBoostRegressor( DecisionTreeRegressor(max_depth=100))\n",
        "AB.fit(XTrain,YTrain)"
      ],
      "execution_count": 154,
      "outputs": [
        {
          "output_type": "execute_result",
          "data": {
            "text/plain": [
              "AdaBoostRegressor(base_estimator=DecisionTreeRegressor(ccp_alpha=0.0,\n",
              "                                                       criterion='mse',\n",
              "                                                       max_depth=100,\n",
              "                                                       max_features=None,\n",
              "                                                       max_leaf_nodes=None,\n",
              "                                                       min_impurity_decrease=0.0,\n",
              "                                                       min_impurity_split=None,\n",
              "                                                       min_samples_leaf=1,\n",
              "                                                       min_samples_split=2,\n",
              "                                                       min_weight_fraction_leaf=0.0,\n",
              "                                                       presort='deprecated',\n",
              "                                                       random_state=None,\n",
              "                                                       splitter='best'),\n",
              "                  learning_rate=1.0, loss='linear', n_estimators=50,\n",
              "                  random_state=None)"
            ]
          },
          "metadata": {
            "tags": []
          },
          "execution_count": 154
        }
      ]
    },
    {
      "cell_type": "code",
      "metadata": {
        "colab_type": "code",
        "outputId": "d4a07c55-4c54-4c5c-80ba-e12c7bcbe5a2",
        "id": "gX9CWga9rFCq",
        "colab": {
          "base_uri": "https://localhost:8080/",
          "height": 34
        }
      },
      "source": [
        "from sklearn.metrics import r2_score\n",
        "Pred=AB.predict(XTest)\n",
        "r2_score(YTest,Pred)"
      ],
      "execution_count": 155,
      "outputs": [
        {
          "output_type": "execute_result",
          "data": {
            "text/plain": [
              "0.9999994700760784"
            ]
          },
          "metadata": {
            "tags": []
          },
          "execution_count": 155
        }
      ]
    },
    {
      "cell_type": "markdown",
      "metadata": {
        "id": "1TnuaoXZ3d1F",
        "colab_type": "text"
      },
      "source": [
        "##DecisionTree"
      ]
    },
    {
      "cell_type": "code",
      "metadata": {
        "id": "Cm8H0Hv70mSB",
        "colab_type": "code",
        "colab": {}
      },
      "source": [
        "from sklearn.tree import DecisionTreeRegressor\n",
        "DT= DecisionTreeRegressor(max_depth =50)"
      ],
      "execution_count": 0,
      "outputs": []
    },
    {
      "cell_type": "code",
      "metadata": {
        "id": "dRHHp5qu0mOh",
        "colab_type": "code",
        "outputId": "c46af239-964d-421b-946f-aab64878aecc",
        "colab": {
          "base_uri": "https://localhost:8080/",
          "height": 119
        }
      },
      "source": [
        "DT.fit(XTrain,YTrain)"
      ],
      "execution_count": 157,
      "outputs": [
        {
          "output_type": "execute_result",
          "data": {
            "text/plain": [
              "DecisionTreeRegressor(ccp_alpha=0.0, criterion='mse', max_depth=50,\n",
              "                      max_features=None, max_leaf_nodes=None,\n",
              "                      min_impurity_decrease=0.0, min_impurity_split=None,\n",
              "                      min_samples_leaf=1, min_samples_split=2,\n",
              "                      min_weight_fraction_leaf=0.0, presort='deprecated',\n",
              "                      random_state=None, splitter='best')"
            ]
          },
          "metadata": {
            "tags": []
          },
          "execution_count": 157
        }
      ]
    },
    {
      "cell_type": "code",
      "metadata": {
        "id": "sROgRgKC0mMa",
        "colab_type": "code",
        "outputId": "5aaa23cd-eb0d-4953-ad21-53996c087508",
        "colab": {
          "base_uri": "https://localhost:8080/",
          "height": 34
        }
      },
      "source": [
        "from sklearn.metrics import r2_score\n",
        "Pred=DT.predict(XTest)\n",
        "r2_score(YTest,Pred)"
      ],
      "execution_count": 158,
      "outputs": [
        {
          "output_type": "execute_result",
          "data": {
            "text/plain": [
              "0.99999944025352"
            ]
          },
          "metadata": {
            "tags": []
          },
          "execution_count": 158
        }
      ]
    },
    {
      "cell_type": "markdown",
      "metadata": {
        "id": "u6eMaHXH3qem",
        "colab_type": "text"
      },
      "source": [
        "##CrossValidation"
      ]
    },
    {
      "cell_type": "code",
      "metadata": {
        "id": "YoGRCc8a3p0a",
        "colab_type": "code",
        "outputId": "8855ae68-266e-4d3b-fc61-303ea33d2a97",
        "colab": {
          "base_uri": "https://localhost:8080/",
          "height": 0
        }
      },
      "source": [
        "from sklearn.model_selection import cross_val_score, cross_val_predict\n",
        "import numpy as np\n",
        "CrossScore = cross_val_score(DT, XTrain , YTrain, cv=20,scoring='r2')\n",
        "print(\"Mean:\",(np.mean(CrossScore)))\n",
        "print(\"Std:\",(np.std(CrossScore)))"
      ],
      "execution_count": 159,
      "outputs": [
        {
          "output_type": "stream",
          "text": [
            "Mean: 0.999993470075958\n",
            "Std: 1.1012970730754567e-05\n"
          ],
          "name": "stdout"
        }
      ]
    },
    {
      "cell_type": "markdown",
      "metadata": {
        "id": "cx_ur8vp5TRV",
        "colab_type": "text"
      },
      "source": [
        "I Have Just Little Bit Differ In Accuracy By Using Cross!"
      ]
    },
    {
      "cell_type": "markdown",
      "metadata": {
        "id": "A4JwUT0q5lB0",
        "colab_type": "text"
      },
      "source": [
        "##RandomForest"
      ]
    },
    {
      "cell_type": "code",
      "metadata": {
        "id": "BXEWdqBn5nUN",
        "colab_type": "code",
        "outputId": "31919560-f65a-4cb5-8ceb-496b55b20fae",
        "colab": {
          "base_uri": "https://localhost:8080/",
          "height": 0
        }
      },
      "source": [
        "from sklearn.ensemble import RandomForestRegressor\n",
        "RF=RandomForestRegressor(n_estimators=10)\n",
        "RF.fit(XTrain,YTrain)\n"
      ],
      "execution_count": 160,
      "outputs": [
        {
          "output_type": "execute_result",
          "data": {
            "text/plain": [
              "RandomForestRegressor(bootstrap=True, ccp_alpha=0.0, criterion='mse',\n",
              "                      max_depth=None, max_features='auto', max_leaf_nodes=None,\n",
              "                      max_samples=None, min_impurity_decrease=0.0,\n",
              "                      min_impurity_split=None, min_samples_leaf=1,\n",
              "                      min_samples_split=2, min_weight_fraction_leaf=0.0,\n",
              "                      n_estimators=10, n_jobs=None, oob_score=False,\n",
              "                      random_state=None, verbose=0, warm_start=False)"
            ]
          },
          "metadata": {
            "tags": []
          },
          "execution_count": 160
        }
      ]
    },
    {
      "cell_type": "code",
      "metadata": {
        "id": "Bg81VRxG5nRG",
        "colab_type": "code",
        "outputId": "a98db1dc-e3c3-44b6-f7e5-b15bbd7c7b9c",
        "colab": {
          "base_uri": "https://localhost:8080/",
          "height": 0
        }
      },
      "source": [
        "from sklearn.metrics import r2_score\n",
        "Pred=RF.predict(XTest)\n",
        "r2_score(YTest,Pred)"
      ],
      "execution_count": 161,
      "outputs": [
        {
          "output_type": "execute_result",
          "data": {
            "text/plain": [
              "0.999999244984584"
            ]
          },
          "metadata": {
            "tags": []
          },
          "execution_count": 161
        }
      ]
    },
    {
      "cell_type": "markdown",
      "metadata": {
        "id": "CH3TtkbSYNuj",
        "colab_type": "text"
      },
      "source": [
        "##Predict On Test Set"
      ]
    },
    {
      "cell_type": "markdown",
      "metadata": {
        "id": "tqKtPX-hT7R9",
        "colab_type": "text"
      },
      "source": [
        "So I Explain Some Considered Models,Lets Predict On TestSet"
      ]
    },
    {
      "cell_type": "code",
      "metadata": {
        "id": "x-qv1TVXXJze",
        "colab_type": "code",
        "colab": {
          "base_uri": "https://localhost:8080/",
          "height": 0
        },
        "outputId": "05fa3fc0-9063-42ba-a9cb-027534d57810"
      },
      "source": [
        "#--------------------------------Make X,y Data----------------------------------\n",
        "#----------------------------------TestSet---------------------------------------\n",
        "XTestData=TestSet[TestSet.columns[:]]\n",
        "XTestData"
      ],
      "execution_count": 162,
      "outputs": [
        {
          "output_type": "execute_result",
          "data": {
            "text/html": [
              "<div>\n",
              "<style scoped>\n",
              "    .dataframe tbody tr th:only-of-type {\n",
              "        vertical-align: middle;\n",
              "    }\n",
              "\n",
              "    .dataframe tbody tr th {\n",
              "        vertical-align: top;\n",
              "    }\n",
              "\n",
              "    .dataframe thead th {\n",
              "        text-align: right;\n",
              "    }\n",
              "</style>\n",
              "<table border=\"1\" class=\"dataframe\">\n",
              "  <thead>\n",
              "    <tr style=\"text-align: right;\">\n",
              "      <th></th>\n",
              "      <th>Station</th>\n",
              "      <th>Channel Type</th>\n",
              "      <th>Season</th>\n",
              "      <th>Day of week</th>\n",
              "      <th>Length</th>\n",
              "      <th>Genre</th>\n",
              "      <th>First time or rerun</th>\n",
              "      <th># of episode in the season</th>\n",
              "      <th>Movie?</th>\n",
              "      <th>Game of the Canadiens during episode?</th>\n",
              "      <th>Temperature in Montreal during episode</th>\n",
              "    </tr>\n",
              "  </thead>\n",
              "  <tbody>\n",
              "    <tr>\n",
              "      <th>0</th>\n",
              "      <td>0</td>\n",
              "      <td>0</td>\n",
              "      <td>0</td>\n",
              "      <td>0</td>\n",
              "      <td>2</td>\n",
              "      <td>0</td>\n",
              "      <td>1</td>\n",
              "      <td>0</td>\n",
              "      <td>1</td>\n",
              "      <td>1</td>\n",
              "      <td>0</td>\n",
              "    </tr>\n",
              "    <tr>\n",
              "      <th>1</th>\n",
              "      <td>0</td>\n",
              "      <td>0</td>\n",
              "      <td>0</td>\n",
              "      <td>0</td>\n",
              "      <td>2</td>\n",
              "      <td>0</td>\n",
              "      <td>1</td>\n",
              "      <td>0</td>\n",
              "      <td>1</td>\n",
              "      <td>1</td>\n",
              "      <td>0</td>\n",
              "    </tr>\n",
              "    <tr>\n",
              "      <th>2</th>\n",
              "      <td>0</td>\n",
              "      <td>0</td>\n",
              "      <td>0</td>\n",
              "      <td>0</td>\n",
              "      <td>2</td>\n",
              "      <td>0</td>\n",
              "      <td>1</td>\n",
              "      <td>0</td>\n",
              "      <td>1</td>\n",
              "      <td>1</td>\n",
              "      <td>0</td>\n",
              "    </tr>\n",
              "    <tr>\n",
              "      <th>3</th>\n",
              "      <td>0</td>\n",
              "      <td>0</td>\n",
              "      <td>0</td>\n",
              "      <td>0</td>\n",
              "      <td>4</td>\n",
              "      <td>0</td>\n",
              "      <td>0</td>\n",
              "      <td>0</td>\n",
              "      <td>1</td>\n",
              "      <td>1</td>\n",
              "      <td>0</td>\n",
              "    </tr>\n",
              "    <tr>\n",
              "      <th>4</th>\n",
              "      <td>0</td>\n",
              "      <td>0</td>\n",
              "      <td>0</td>\n",
              "      <td>0</td>\n",
              "      <td>4</td>\n",
              "      <td>0</td>\n",
              "      <td>1</td>\n",
              "      <td>0</td>\n",
              "      <td>1</td>\n",
              "      <td>1</td>\n",
              "      <td>0</td>\n",
              "    </tr>\n",
              "    <tr>\n",
              "      <th>...</th>\n",
              "      <td>...</td>\n",
              "      <td>...</td>\n",
              "      <td>...</td>\n",
              "      <td>...</td>\n",
              "      <td>...</td>\n",
              "      <td>...</td>\n",
              "      <td>...</td>\n",
              "      <td>...</td>\n",
              "      <td>...</td>\n",
              "      <td>...</td>\n",
              "      <td>...</td>\n",
              "    </tr>\n",
              "    <tr>\n",
              "      <th>154160</th>\n",
              "      <td>1</td>\n",
              "      <td>0</td>\n",
              "      <td>0</td>\n",
              "      <td>0</td>\n",
              "      <td>4</td>\n",
              "      <td>0</td>\n",
              "      <td>1</td>\n",
              "      <td>0</td>\n",
              "      <td>1</td>\n",
              "      <td>1</td>\n",
              "      <td>0</td>\n",
              "    </tr>\n",
              "    <tr>\n",
              "      <th>154161</th>\n",
              "      <td>1</td>\n",
              "      <td>0</td>\n",
              "      <td>0</td>\n",
              "      <td>0</td>\n",
              "      <td>4</td>\n",
              "      <td>0</td>\n",
              "      <td>1</td>\n",
              "      <td>0</td>\n",
              "      <td>1</td>\n",
              "      <td>1</td>\n",
              "      <td>0</td>\n",
              "    </tr>\n",
              "    <tr>\n",
              "      <th>154162</th>\n",
              "      <td>1</td>\n",
              "      <td>0</td>\n",
              "      <td>0</td>\n",
              "      <td>0</td>\n",
              "      <td>6</td>\n",
              "      <td>0</td>\n",
              "      <td>1</td>\n",
              "      <td>0</td>\n",
              "      <td>0</td>\n",
              "      <td>1</td>\n",
              "      <td>0</td>\n",
              "    </tr>\n",
              "    <tr>\n",
              "      <th>154163</th>\n",
              "      <td>1</td>\n",
              "      <td>0</td>\n",
              "      <td>0</td>\n",
              "      <td>0</td>\n",
              "      <td>10</td>\n",
              "      <td>0</td>\n",
              "      <td>1</td>\n",
              "      <td>0</td>\n",
              "      <td>0</td>\n",
              "      <td>1</td>\n",
              "      <td>0</td>\n",
              "    </tr>\n",
              "    <tr>\n",
              "      <th>154164</th>\n",
              "      <td>1</td>\n",
              "      <td>0</td>\n",
              "      <td>0</td>\n",
              "      <td>0</td>\n",
              "      <td>8</td>\n",
              "      <td>0</td>\n",
              "      <td>1</td>\n",
              "      <td>0</td>\n",
              "      <td>0</td>\n",
              "      <td>1</td>\n",
              "      <td>0</td>\n",
              "    </tr>\n",
              "  </tbody>\n",
              "</table>\n",
              "<p>154165 rows × 11 columns</p>\n",
              "</div>"
            ],
            "text/plain": [
              "        Station  ...  Temperature in Montreal during episode\n",
              "0             0  ...                                       0\n",
              "1             0  ...                                       0\n",
              "2             0  ...                                       0\n",
              "3             0  ...                                       0\n",
              "4             0  ...                                       0\n",
              "...         ...  ...                                     ...\n",
              "154160        1  ...                                       0\n",
              "154161        1  ...                                       0\n",
              "154162        1  ...                                       0\n",
              "154163        1  ...                                       0\n",
              "154164        1  ...                                       0\n",
              "\n",
              "[154165 rows x 11 columns]"
            ]
          },
          "metadata": {
            "tags": []
          },
          "execution_count": 162
        }
      ]
    },
    {
      "cell_type": "code",
      "metadata": {
        "id": "RMr5sLORUgZD",
        "colab_type": "code",
        "colab": {}
      },
      "source": [
        "#---------------------------------AdaBoost--------------------------------------\n",
        "ABR = AdaBoostRegressor(DecisionTreeRegressor(max_depth=200))\n",
        "ABR.fit(XTrain,YTrain)\n",
        "TestPredAda = ABR.predict(XTestData)\n",
        "#-------------------------------LinearRegression--------------------------------\n",
        "Reg= LinearRegression()\n",
        "Reg.fit(XTrain,YTrain)\n",
        "TestPred=Reg.predict(XTestData)\n",
        "#---------------------------------RandomForest-----------------------------------\n",
        "RF=RandomForestRegressor(n_estimators=10)\n",
        "RF.fit(XTrain,YTrain)\n",
        "TestPredRF=RF.predict(XTestData)\n",
        "#--------------------------------DecisionTree-----------------------------------\n",
        "DT= DecisionTreeRegressor(max_depth =50)\n",
        "DT.fit(XTrain,YTrain)\n",
        "TestPredDT=DT.predict(XTestData)"
      ],
      "execution_count": 0,
      "outputs": []
    },
    {
      "cell_type": "code",
      "metadata": {
        "id": "aj_QVA-1X_9c",
        "colab_type": "code",
        "colab": {}
      },
      "source": [
        ""
      ],
      "execution_count": 0,
      "outputs": []
    }
  ]
}